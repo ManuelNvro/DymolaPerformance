{
 "cells": [
  {
   "cell_type": "code",
   "execution_count": 1,
   "metadata": {},
   "outputs": [],
   "source": [
    "import numpy as np"
   ]
  },
  {
   "cell_type": "code",
   "execution_count": 19,
   "metadata": {},
   "outputs": [],
   "source": [
    "#Data\n",
    "D = [[0.1664, 7.869], \n",
    "     [0.34082, 13.4004], \n",
    "     [14.40989, 163.4884]]\n",
    "E = [[1880.0109, 277.5495],\n",
    "     [1850.0129, 310.1061],\n",
    "     [1820.0119, 378.6069]]\n",
    "RK = [[4420.0125, 783.0159], \n",
    "      [4410.0119, 1086.3958], \n",
    "      [4590.0129, 1344.6808]] \n",
    "\n",
    "\n",
    "\n",
    "\n",
    "#old\n",
    "#D = [[39.17, 18.44], [61.47, 22.74], [670.26, 163.41]]\n",
    "#E = [[2433.66, 260.93],[2383.42, 296.38],[2278.32, 366.79]]\n",
    "#T = [[4096.09, 279.30],[4039.35, 519.01],[3787.78, 1396.52]]\n",
    "#RK = [[5683.57, 705.10], [5690.08, 996.25], [5777.97, 1259.09]] "
   ]
  },
  {
   "cell_type": "code",
   "execution_count": 20,
   "metadata": {},
   "outputs": [],
   "source": [
    "#NT Scenario 1\n",
    "\n",
    "D1D = min(D[0][0], D[0][1])/D[0][0]\n",
    "D1OM = min(D[0][0], D[0][1])/D[0][1]\n",
    "\n",
    "E1D = min(E[0][0], E[0][1])/E[0][0]\n",
    "E1OM = min(E[0][0], E[0][1])/E[0][1]\n",
    "\n",
    "#T1D = min(T[0][0], T[0][1])/T[0][0]\n",
    "#T1OM = min(T[0][0], T[0][1])/T[0][1]\n",
    "\n",
    "RK1D = min(RK[0][0], RK[0][1])/RK[0][0]\n",
    "RK1OM = min(RK[0][0], RK[0][1])/RK[0][1]"
   ]
  },
  {
   "cell_type": "code",
   "execution_count": 21,
   "metadata": {},
   "outputs": [],
   "source": [
    "#NT Scenario 2\n",
    "\n",
    "D2D = min(D[1][0], D[1][1])/D[1][0]\n",
    "D2OM = min(D[1][0], D[1][1])/D[1][1]\n",
    "\n",
    "E2D = min(E[1][0], E[1][1])/E[1][0]\n",
    "E2OM = min(E[1][0], E[1][1])/E[1][1]\n",
    "\n",
    "#T2D = min(T[1][0], T[1][1])/T[1][0]\n",
    "#T2OM = min(T[1][0], T[1][1])/T[1][1]\n",
    "\n",
    "RK2D = min(RK[1][0], RK[1][1])/RK[1][0]\n",
    "RK2OM = min(RK[1][0], RK[1][1])/RK[1][1]"
   ]
  },
  {
   "cell_type": "code",
   "execution_count": 22,
   "metadata": {},
   "outputs": [],
   "source": [
    "#NT Scenario 3\n",
    "D3D = min(D[2][0], D[2][1])/D[2][0]\n",
    "D3OM = min(D[2][0], D[2][1])/D[2][1]\n",
    "\n",
    "E3D = min(E[2][0], E[2][1])/E[2][0]\n",
    "E3OM = min(E[2][0], E[2][1])/E[2][1]\n",
    "\n",
    "#T3D = min(T[2][0], T[2][1])/T[2][0]\n",
    "#T3OM = min(T[2][0], T[2][1])/T[2][1]\n",
    "\n",
    "RK3D = min(RK[2][0], RK[2][1])/RK[2][0]\n",
    "RK3OM = min(RK[2][0], RK[2][1])/RK[2][1]"
   ]
  },
  {
   "cell_type": "code",
   "execution_count": 23,
   "metadata": {},
   "outputs": [
    {
     "name": "stdout",
     "output_type": "stream",
     "text": [
      "[[1.0, 0.021146270174100902], [0.14763185681529825, 1.0], [0.17715241755538022, 1.0]]\n",
      "[[1.0, 0.02543356914718964], [0.16762375008303998, 1.0], [0.24634758922079097, 1.0]]\n",
      "[[1.0, 0.08814013715957829], [0.20802440907117145, 1.0], [0.2929579566105359, 1.0]]\n"
     ]
    }
   ],
   "source": [
    "#NT Results Matrix\n",
    "Results1 = [[D1D, D1OM],[E1D, E1OM],[RK1D, RK1OM]]\n",
    "print(Results1)\n",
    "Results2 = [[D2D, D2OM],[E2D, E2OM],[RK2D, RK2OM]]\n",
    "print(Results2)\n",
    "Results3 = [[D3D, D3OM],[E3D, E3OM],[RK3D, RK3OM]]\n",
    "print(Results3)\n",
    "\n",
    "#old\n",
    "#Results1 = [[D1D, D1OM],[E1D, E1OM],[T1D, T1OM],[RK1D, RK1OM]]\n",
    "#print(Results1)\n",
    "#Results2 = [[D2D, D2OM],[E2D, E2OM],[T2D, T2OM],[RK2D, RK2OM]]\n",
    "#print(Results2)\n",
    "#Results3 = [[D3D, D3OM],[E3D, E3OM],[T3D, T3OM],[RK3D, RK3OM]]\n",
    "#print(Results3)"
   ]
  },
  {
   "cell_type": "code",
   "execution_count": 24,
   "metadata": {},
   "outputs": [
    {
     "name": "stdout",
     "output_type": "stream",
     "text": [
      "0.4415947581235595\n",
      "0.6737154233913669\n",
      "0.47132377976794365\n",
      "0.6751445230490631\n",
      "0.5003274552272358\n",
      "0.696046712386526\n"
     ]
    }
   ],
   "source": [
    "#AS Total Score of all the solver per scenario \n",
    "#removed Trapezoid\n",
    "\n",
    "#Scenario 1\n",
    "DS1 =  (D1D + E1D + RK1D)/3\n",
    "print(DS1)\n",
    "OMS1 = (D1OM + E1OM + RK1OM)/3\n",
    "print(OMS1)\n",
    "\n",
    "#Scenario 2\n",
    "DS2 =  (D2D + E2D + RK2D)/3\n",
    "print(DS2)\n",
    "OMS2 = (D2OM + E2OM + RK2OM)/3\n",
    "print(OMS2)\n",
    "\n",
    "#Scenario 3\n",
    "DS3 =  (D3D + E3D + RK3D)/3\n",
    "print(DS3)\n",
    "OMS3 = (D3OM + E3OM + RK3OM)/3\n",
    "print(OMS3)\n",
    "\n",
    "#old\n",
    "#Scenario 1\n",
    "#DS1 =  (D1D + E1D + T1D + RK1D)/4\n",
    "#print(DS1)\n",
    "#OMS1 = (D1OM + E1OM + T1OM + RK1OM)/4\n",
    "#print(OMS1)\n",
    "\n",
    "#Scenario 2\n",
    "#DS2 =  (D2D + E2D + T2D + RK2D)/4\n",
    "#print(DS2)\n",
    "#OMS2 = (D2OM + E2OM + T2OM + RK2OM)/4\n",
    "#print(OMS2)\n",
    "\n",
    "#Scenario 3\n",
    "#DS3 =  (D3D + E3D + T3D + RK3D)/4\n",
    "#print(DS3)\n",
    "#OMS3 = (D3OM + E3OM + T3OM + RK3OM)/4\n",
    "#print(OMS3)\n"
   ]
  },
  {
   "cell_type": "code",
   "execution_count": 18,
   "metadata": {},
   "outputs": [
    {
     "name": "stdout",
     "output_type": "stream",
     "text": [
      "0.47987981316871287\n",
      "0.6853097977862554\n",
      "0.20542998461754258\n"
     ]
    }
   ],
   "source": [
    "#Score Metric for all the solvers and all the scenario\n",
    "DymolaMetric = (.2 * DS1) + (.3 * DS2) + (.5 * DS3)\n",
    "OpenModelicaMetric = (.2 * OMS1) + (.3 * OMS2) + (.5 * OMS3)\n",
    "print(DymolaMetric)\n",
    "print(OpenModelicaMetric) \n",
    "print(OpenModelicaMetric - DymolaMetric)"
   ]
  }
 ],
 "metadata": {
  "kernelspec": {
   "display_name": "Python 3",
   "language": "python",
   "name": "python3"
  },
  "language_info": {
   "codemirror_mode": {
    "name": "ipython",
    "version": 3
   },
   "file_extension": ".py",
   "mimetype": "text/x-python",
   "name": "python",
   "nbconvert_exporter": "python",
   "pygments_lexer": "ipython3",
   "version": "3.7.4"
  }
 },
 "nbformat": 4,
 "nbformat_minor": 2
}
